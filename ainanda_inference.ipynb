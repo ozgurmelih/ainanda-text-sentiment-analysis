{
  "nbformat": 4,
  "nbformat_minor": 0,
  "metadata": {
    "colab": {
      "name": "ainanda_inference.ipynb",
      "provenance": [],
      "collapsed_sections": [],
      "toc_visible": true,
      "include_colab_link": true
    },
    "kernelspec": {
      "name": "python3",
      "display_name": "Python 3"
    },
    "language_info": {
      "name": "python"
    },
    "widgets": {
      "application/vnd.jupyter.widget-state+json": {
        "2d5c03efb1ed452ab2e7cd3f38d5cdfa": {
          "model_module": "@jupyter-widgets/controls",
          "model_name": "VBoxModel",
          "state": {
            "_view_name": "VBoxView",
            "_dom_classes": [
              "widget-interact"
            ],
            "_model_name": "VBoxModel",
            "_view_module": "@jupyter-widgets/controls",
            "_model_module_version": "1.5.0",
            "_view_count": null,
            "_view_module_version": "1.5.0",
            "box_style": "",
            "layout": "IPY_MODEL_e3af0645baff44c8844e199ff661e4de",
            "_model_module": "@jupyter-widgets/controls",
            "children": [
              "IPY_MODEL_ca47ce13f3624cbfb734707fd26ede78",
              "IPY_MODEL_85e88d25094f4456ba5d2dce91bbd7a6"
            ]
          }
        },
        "e3af0645baff44c8844e199ff661e4de": {
          "model_module": "@jupyter-widgets/base",
          "model_name": "LayoutModel",
          "state": {
            "_view_name": "LayoutView",
            "grid_template_rows": null,
            "right": null,
            "justify_content": null,
            "_view_module": "@jupyter-widgets/base",
            "overflow": null,
            "_model_module_version": "1.2.0",
            "_view_count": null,
            "flex_flow": null,
            "width": null,
            "min_width": null,
            "border": null,
            "align_items": null,
            "bottom": null,
            "_model_module": "@jupyter-widgets/base",
            "top": null,
            "grid_column": null,
            "overflow_y": null,
            "overflow_x": null,
            "grid_auto_flow": null,
            "grid_area": null,
            "grid_template_columns": null,
            "flex": null,
            "_model_name": "LayoutModel",
            "justify_items": null,
            "grid_row": null,
            "max_height": null,
            "align_content": null,
            "visibility": null,
            "align_self": null,
            "height": null,
            "min_height": null,
            "padding": null,
            "grid_auto_rows": null,
            "grid_gap": null,
            "max_width": null,
            "order": null,
            "_view_module_version": "1.2.0",
            "grid_template_areas": null,
            "object_position": null,
            "object_fit": null,
            "grid_auto_columns": null,
            "margin": null,
            "display": null,
            "left": null
          }
        },
        "ca47ce13f3624cbfb734707fd26ede78": {
          "model_module": "@jupyter-widgets/controls",
          "model_name": "TextModel",
          "state": {
            "_view_name": "TextView",
            "style": "IPY_MODEL_0879512a7d8041d3b1d4c10657893950",
            "_dom_classes": [],
            "description": "text",
            "_model_name": "TextModel",
            "placeholder": "​",
            "_view_module": "@jupyter-widgets/controls",
            "_model_module_version": "1.5.0",
            "value": "I am very tired.",
            "_view_count": null,
            "disabled": false,
            "_view_module_version": "1.5.0",
            "continuous_update": true,
            "description_tooltip": null,
            "_model_module": "@jupyter-widgets/controls",
            "layout": "IPY_MODEL_d054ebe01fa549009f5bad0df9adff02"
          }
        },
        "85e88d25094f4456ba5d2dce91bbd7a6": {
          "model_module": "@jupyter-widgets/output",
          "model_name": "OutputModel",
          "state": {
            "_view_name": "OutputView",
            "msg_id": "",
            "_dom_classes": [],
            "_model_name": "OutputModel",
            "outputs": [
              {
                "output_type": "display_data",
                "metadata": {
                  "tags": []
                },
                "text/plain": "{'Emoji': '🙁', 'Label': 'Negative', 'Score': 0.0407947301864624}"
              }
            ],
            "_view_module": "@jupyter-widgets/output",
            "_model_module_version": "1.0.0",
            "_view_count": null,
            "_view_module_version": "1.0.0",
            "layout": "IPY_MODEL_47156f68efb341d5b81bc1721f0c81dc",
            "_model_module": "@jupyter-widgets/output"
          }
        },
        "0879512a7d8041d3b1d4c10657893950": {
          "model_module": "@jupyter-widgets/controls",
          "model_name": "DescriptionStyleModel",
          "state": {
            "_view_name": "StyleView",
            "_model_name": "DescriptionStyleModel",
            "description_width": "",
            "_view_module": "@jupyter-widgets/base",
            "_model_module_version": "1.5.0",
            "_view_count": null,
            "_view_module_version": "1.2.0",
            "_model_module": "@jupyter-widgets/controls"
          }
        },
        "d054ebe01fa549009f5bad0df9adff02": {
          "model_module": "@jupyter-widgets/base",
          "model_name": "LayoutModel",
          "state": {
            "_view_name": "LayoutView",
            "grid_template_rows": null,
            "right": null,
            "justify_content": null,
            "_view_module": "@jupyter-widgets/base",
            "overflow": null,
            "_model_module_version": "1.2.0",
            "_view_count": null,
            "flex_flow": null,
            "width": null,
            "min_width": null,
            "border": null,
            "align_items": null,
            "bottom": null,
            "_model_module": "@jupyter-widgets/base",
            "top": null,
            "grid_column": null,
            "overflow_y": null,
            "overflow_x": null,
            "grid_auto_flow": null,
            "grid_area": null,
            "grid_template_columns": null,
            "flex": null,
            "_model_name": "LayoutModel",
            "justify_items": null,
            "grid_row": null,
            "max_height": null,
            "align_content": null,
            "visibility": null,
            "align_self": null,
            "height": null,
            "min_height": null,
            "padding": null,
            "grid_auto_rows": null,
            "grid_gap": null,
            "max_width": null,
            "order": null,
            "_view_module_version": "1.2.0",
            "grid_template_areas": null,
            "object_position": null,
            "object_fit": null,
            "grid_auto_columns": null,
            "margin": null,
            "display": null,
            "left": null
          }
        },
        "47156f68efb341d5b81bc1721f0c81dc": {
          "model_module": "@jupyter-widgets/base",
          "model_name": "LayoutModel",
          "state": {
            "_view_name": "LayoutView",
            "grid_template_rows": null,
            "right": null,
            "justify_content": null,
            "_view_module": "@jupyter-widgets/base",
            "overflow": null,
            "_model_module_version": "1.2.0",
            "_view_count": null,
            "flex_flow": null,
            "width": null,
            "min_width": null,
            "border": null,
            "align_items": null,
            "bottom": null,
            "_model_module": "@jupyter-widgets/base",
            "top": null,
            "grid_column": null,
            "overflow_y": null,
            "overflow_x": null,
            "grid_auto_flow": null,
            "grid_area": null,
            "grid_template_columns": null,
            "flex": null,
            "_model_name": "LayoutModel",
            "justify_items": null,
            "grid_row": null,
            "max_height": null,
            "align_content": null,
            "visibility": null,
            "align_self": null,
            "height": null,
            "min_height": null,
            "padding": null,
            "grid_auto_rows": null,
            "grid_gap": null,
            "max_width": null,
            "order": null,
            "_view_module_version": "1.2.0",
            "grid_template_areas": null,
            "object_position": null,
            "object_fit": null,
            "grid_auto_columns": null,
            "margin": null,
            "display": null,
            "left": null
          }
        }
      }
    }
  },
  "cells": [
    {
      "cell_type": "markdown",
      "metadata": {
        "id": "view-in-github",
        "colab_type": "text"
      },
      "source": [
        "<a href=\"https://colab.research.google.com/github/ozgurmelih/ainanda-text-sentiment-analysis/blob/main/ainanda_inference.ipynb\" target=\"_parent\"><img src=\"https://colab.research.google.com/assets/colab-badge.svg\" alt=\"Open In Colab\"/></a>"
      ]
    },
    {
      "cell_type": "markdown",
      "metadata": {
        "id": "DauhzGoqYaIJ"
      },
      "source": [
        "#AInanda inference Demo\n",
        "\n",
        "A quick intro to using the pre-trained AInanda model to detect sentiment of text."
      ]
    },
    {
      "cell_type": "markdown",
      "metadata": {
        "id": "v1W_pB16bzRU"
      },
      "source": [
        "##Install required packages"
      ]
    },
    {
      "cell_type": "code",
      "metadata": {
        "id": "JF8WcMnuK60n"
      },
      "source": [
        "# Scikit-learn\n",
        "from sklearn.preprocessing import LabelEncoder\n",
        "from sklearn.metrics import confusion_matrix, classification_report, accuracy_score\n",
        "from sklearn.manifold import TSNE\n",
        "\n",
        "# Keras\n",
        "from keras.preprocessing.text import Tokenizer\n",
        "from keras.preprocessing.sequence import pad_sequences\n",
        "from keras.models import load_model \n",
        "\n",
        "\n",
        "# Word2vec\n",
        "import gensim\n",
        "from gensim.models import Word2Vec\n",
        "\n",
        "import re\n",
        "import numpy as np\n",
        "import os\n",
        "from collections import Counter\n",
        "import logging\n",
        "import time\n",
        "import pickle\n",
        "import itertools\n",
        "import pandas as pd\n",
        "\n",
        "import warnings \n",
        "warnings.filterwarnings(\"ignore\")"
      ],
      "execution_count": null,
      "outputs": []
    },
    {
      "cell_type": "markdown",
      "metadata": {
        "id": "iesG-CaOYNqB"
      },
      "source": [
        "##Download and extract Pretrained model\n",
        "Download the pretrained  model from google drive"
      ]
    },
    {
      "cell_type": "code",
      "metadata": {
        "id": "KSMawccBWgtU",
        "colab": {
          "base_uri": "https://localhost:8080/"
        },
        "outputId": "45bdd550-5939-4072-9dde-7add829aac48"
      },
      "source": [
        "fileId = '146mZJzhphx77nF98UoX-jC-PM2b1ikL6'  #ID code of pretrained model file\n",
        "\n",
        "from zipfile import ZipFile\n",
        "from shutil import copy\n",
        "from pydrive.auth import GoogleAuth\n",
        "from pydrive.drive import GoogleDrive\n",
        "from google.colab import auth\n",
        "from oauth2client.client import GoogleCredentials\n",
        "\n",
        "#OAouth\n",
        "auth.authenticate_user()\n",
        "gauth = GoogleAuth()\n",
        "gauth.credentials = GoogleCredentials.get_application_default()\n",
        "drive = GoogleDrive(gauth)\n",
        "\n",
        "#code for download file from google drive\n",
        "fileName = 'pretrained_model.zip'\n",
        "downloaded = drive.CreateFile({'id': fileId})\n",
        "downloaded.GetContentFile(fileName)\n",
        "\n",
        "#Extract zip file\n",
        "ds = ZipFile(fileName)\n",
        "ds.extractall()\n",
        "os.remove(fileName)\n",
        "print('Extracted zip file ' + fileName)"
      ],
      "execution_count": null,
      "outputs": [
        {
          "output_type": "stream",
          "text": [
            "Extracted zip file pretrained_model.zip\n"
          ],
          "name": "stdout"
        }
      ]
    },
    {
      "cell_type": "markdown",
      "metadata": {
        "id": "VbLC88uzY7Y0"
      },
      "source": [
        "##Create Model and Load Trained Weights"
      ]
    },
    {
      "cell_type": "code",
      "metadata": {
        "id": "v1sQTEJJZ_po"
      },
      "source": [
        "#load the pretrained weights\n",
        "w2v_model = Word2Vec.load('/content/pretrained_model/ainanda_model_v1.w2v') \n",
        "model = load_model('/content/pretrained_model/ainanda_model_v1.h5') \n",
        "with open('/content/pretrained_model/tokenizer.pkl', 'rb') as handle: tokenizer = pickle.load(handle) \n",
        "with open('/content/pretrained_model/encoder.pkl', 'rb') as handle: encoder = pickle.load(handle)"
      ],
      "execution_count": null,
      "outputs": []
    },
    {
      "cell_type": "code",
      "metadata": {
        "id": "4XoX25-2MLNg"
      },
      "source": [
        "# This function enables us to predict the labels of the text input on the basis of the trained model.\n",
        "\n",
        "def predict_text(text):\n",
        "  x_test = pad_sequences(tokenizer.texts_to_sequences([text]), maxlen=300) # Tokenize text\n",
        "  score = model.predict([x_test])[0] #\n",
        "  \n",
        "  if score <= 0.4:\n",
        "      label = 'Negative'\n",
        "      emoji = '\\U0001F641'  #Unicode symbol for negative\n",
        "  elif score >= 0.6:\n",
        "        label = 'Positive'\n",
        "        emoji = '\\U0001F60A' #Unicode symbol for positive\n",
        "  else:        \n",
        "          label = 'Neutral'\n",
        "          emoji = '\\U0001F610' #Unicode symbol for neutral\n",
        " \n",
        "  return {\"Label\": label, \"Score\": float(score), \"Emoji\":emoji}\n"
      ],
      "execution_count": null,
      "outputs": []
    },
    {
      "cell_type": "markdown",
      "metadata": {
        "id": "odfu68owBbW7"
      },
      "source": [
        "\n",
        "Run text sentiment analysis"
      ]
    },
    {
      "cell_type": "code",
      "metadata": {
        "id": "gND65JHlcf4n",
        "colab": {
          "base_uri": "https://localhost:8080/"
        },
        "outputId": "8dee6695-4a4e-4f97-9a78-5b2dbd9e8426"
      },
      "source": [
        "#Run detection\n",
        "predict_text(\"I don't think there is anything I dislike about the product\")"
      ],
      "execution_count": null,
      "outputs": [
        {
          "output_type": "execute_result",
          "data": {
            "text/plain": [
              "{'Emoji': '😊', 'Label': 'Positive', 'Score': 0.9715813398361206}"
            ]
          },
          "metadata": {
            "tags": []
          },
          "execution_count": 9
        }
      ]
    },
    {
      "cell_type": "markdown",
      "metadata": {
        "id": "0_zD9TVTdUHV"
      },
      "source": [
        "##GUI demo \n",
        "\n"
      ]
    },
    {
      "cell_type": "code",
      "metadata": {
        "id": "fbuIecLR_iQt"
      },
      "source": [
        "#to start using the library we need to install the ipywidgets extension\n",
        "!pip install -q ipywidgets"
      ],
      "execution_count": null,
      "outputs": []
    },
    {
      "cell_type": "code",
      "metadata": {
        "id": "F7OBMw7lnsYA",
        "colab": {
          "base_uri": "https://localhost:8080/",
          "height": 84,
          "referenced_widgets": [
            "2d5c03efb1ed452ab2e7cd3f38d5cdfa",
            "e3af0645baff44c8844e199ff661e4de",
            "ca47ce13f3624cbfb734707fd26ede78",
            "85e88d25094f4456ba5d2dce91bbd7a6",
            "0879512a7d8041d3b1d4c10657893950",
            "d054ebe01fa549009f5bad0df9adff02",
            "47156f68efb341d5b81bc1721f0c81dc"
          ]
        },
        "outputId": "f7758032-7737-4bae-a478-d38c960e11af"
      },
      "source": [
        "from ipywidgets import interact, widgets\n",
        "from IPython.display import display\n",
        "\n",
        "interact(predict_text, text='')"
      ],
      "execution_count": null,
      "outputs": [
        {
          "output_type": "display_data",
          "data": {
            "application/vnd.jupyter.widget-view+json": {
              "model_id": "2d5c03efb1ed452ab2e7cd3f38d5cdfa",
              "version_minor": 0,
              "version_major": 2
            },
            "text/plain": [
              "interactive(children=(Text(value='', description='text'), Output()), _dom_classes=('widget-interact',))"
            ]
          },
          "metadata": {
            "tags": []
          }
        },
        {
          "output_type": "execute_result",
          "data": {
            "text/plain": [
              "<function __main__.predict_text>"
            ]
          },
          "metadata": {
            "tags": []
          },
          "execution_count": 34
        }
      ]
    }
  ]
}